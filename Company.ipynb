{
 "cells": [
  {
   "cell_type": "code",
   "execution_count": null,
   "id": "7f6b57da-d6af-4db1-bc8f-561cade682e1",
   "metadata": {},
   "outputs": [],
   "source": []
  },
  {
   "cell_type": "code",
   "execution_count": null,
   "id": "734c4720-1bdc-49b9-8a8b-bee6a4b7564d",
   "metadata": {},
   "outputs": [],
   "source": []
  },
  {
   "cell_type": "code",
   "execution_count": 8,
   "id": "2bb9bc3b-72ae-4315-a126-c9ce3fa4cd34",
   "metadata": {},
   "outputs": [],
   "source": [
    "import numpy as np\n",
    "import pandas as pd"
   ]
  },
  {
   "cell_type": "code",
   "execution_count": 9,
   "id": "0b45cf14-6031-471b-b5f6-51c9d87dce52",
   "metadata": {},
   "outputs": [
    {
     "data": {
      "text/html": [
       "<div>\n",
       "<style scoped>\n",
       "    .dataframe tbody tr th:only-of-type {\n",
       "        vertical-align: middle;\n",
       "    }\n",
       "\n",
       "    .dataframe tbody tr th {\n",
       "        vertical-align: top;\n",
       "    }\n",
       "\n",
       "    .dataframe thead th {\n",
       "        text-align: right;\n",
       "    }\n",
       "</style>\n",
       "<table border=\"1\" class=\"dataframe\">\n",
       "  <thead>\n",
       "    <tr style=\"text-align: right;\">\n",
       "      <th></th>\n",
       "      <th>Rank</th>\n",
       "      <th>Company Name</th>\n",
       "      <th>Number of Employees</th>\n",
       "      <th>Previous Rank</th>\n",
       "      <th>Revenues</th>\n",
       "      <th>Revenue Change</th>\n",
       "      <th>Profits</th>\n",
       "      <th>Profit Change</th>\n",
       "      <th>Assets</th>\n",
       "      <th>Market Value</th>\n",
       "    </tr>\n",
       "  </thead>\n",
       "  <tbody>\n",
       "    <tr>\n",
       "      <th>0</th>\n",
       "      <td>1</td>\n",
       "      <td>Walmart</td>\n",
       "      <td>23,00,000</td>\n",
       "      <td>1.0</td>\n",
       "      <td>$4,85,873</td>\n",
       "      <td>0.80%</td>\n",
       "      <td>$13,643.00</td>\n",
       "      <td>-7.20%</td>\n",
       "      <td>$1,98,825</td>\n",
       "      <td>$2,18,619</td>\n",
       "    </tr>\n",
       "    <tr>\n",
       "      <th>1</th>\n",
       "      <td>2</td>\n",
       "      <td>Berkshire Hathaway</td>\n",
       "      <td>3,67,700</td>\n",
       "      <td>4.0</td>\n",
       "      <td>$2,23,604</td>\n",
       "      <td>6.10%</td>\n",
       "      <td>$24,074.00</td>\n",
       "      <td>0.00%</td>\n",
       "      <td>$6,20,854</td>\n",
       "      <td>$4,11,035</td>\n",
       "    </tr>\n",
       "    <tr>\n",
       "      <th>2</th>\n",
       "      <td>3</td>\n",
       "      <td>Apple</td>\n",
       "      <td>1,16,000</td>\n",
       "      <td>3.0</td>\n",
       "      <td>$2,15,639</td>\n",
       "      <td>-7.70%</td>\n",
       "      <td>$45,687.00</td>\n",
       "      <td>-14.40%</td>\n",
       "      <td>$3,21,686</td>\n",
       "      <td>$7,53,718</td>\n",
       "    </tr>\n",
       "    <tr>\n",
       "      <th>3</th>\n",
       "      <td>4</td>\n",
       "      <td>Exxon Mobil</td>\n",
       "      <td>72,700</td>\n",
       "      <td>2.0</td>\n",
       "      <td>$2,05,004</td>\n",
       "      <td>-16.70%</td>\n",
       "      <td>$7,840.00</td>\n",
       "      <td>-51.50%</td>\n",
       "      <td>$3,30,314</td>\n",
       "      <td>$3,40,056</td>\n",
       "    </tr>\n",
       "    <tr>\n",
       "      <th>4</th>\n",
       "      <td>5</td>\n",
       "      <td>McKesson</td>\n",
       "      <td>68,000</td>\n",
       "      <td>5.0</td>\n",
       "      <td>$1,92,487</td>\n",
       "      <td>6.20%</td>\n",
       "      <td>$2,258.00</td>\n",
       "      <td>53.00%</td>\n",
       "      <td>$56,563</td>\n",
       "      <td>$31,439</td>\n",
       "    </tr>\n",
       "  </tbody>\n",
       "</table>\n",
       "</div>"
      ],
      "text/plain": [
       "   Rank        Company Name Number of Employees  Previous Rank   Revenues  \\\n",
       "0     1             Walmart           23,00,000            1.0  $4,85,873   \n",
       "1     2  Berkshire Hathaway            3,67,700            4.0  $2,23,604   \n",
       "2     3               Apple            1,16,000            3.0  $2,15,639   \n",
       "3     4         Exxon Mobil              72,700            2.0  $2,05,004   \n",
       "4     5            McKesson              68,000            5.0  $1,92,487   \n",
       "\n",
       "  Revenue Change      Profits Profit Change     Assets Market Value  \n",
       "0          0.80%  $13,643.00         -7.20%  $1,98,825    $2,18,619  \n",
       "1          6.10%  $24,074.00          0.00%  $6,20,854    $4,11,035  \n",
       "2         -7.70%  $45,687.00        -14.40%  $3,21,686    $7,53,718  \n",
       "3        -16.70%   $7,840.00        -51.50%  $3,30,314    $3,40,056  \n",
       "4          6.20%   $2,258.00         53.00%   $56,563      $31,439   "
      ]
     },
     "execution_count": 9,
     "metadata": {},
     "output_type": "execute_result"
    }
   ],
   "source": [
    "company = pd.read_csv('Companies US.csv')\n",
    "company.head()"
   ]
  },
  {
   "cell_type": "code",
   "execution_count": 10,
   "id": "dfc1fb55-2144-4d39-a25f-4639d6674d7a",
   "metadata": {},
   "outputs": [
    {
     "data": {
      "text/plain": [
       "500"
      ]
     },
     "execution_count": 10,
     "metadata": {},
     "output_type": "execute_result"
    }
   ],
   "source": [
    "len(company)"
   ]
  },
  {
   "cell_type": "code",
   "execution_count": 21,
   "id": "67d909d2-2059-4704-9d24-41f560a3e03e",
   "metadata": {},
   "outputs": [],
   "source": [
    "sectors = company.groupby('Profit Change')"
   ]
  },
  {
   "cell_type": "code",
   "execution_count": 22,
   "id": "f5b168c1-549f-49ec-9ed3-f1bcd0d46e37",
   "metadata": {},
   "outputs": [
    {
     "data": {
      "text/plain": [
       "<pandas.core.groupby.generic.DataFrameGroupBy object at 0x000001FABA45A250>"
      ]
     },
     "execution_count": 22,
     "metadata": {},
     "output_type": "execute_result"
    }
   ],
   "source": [
    "sectors"
   ]
  },
  {
   "cell_type": "code",
   "execution_count": 23,
   "id": "60386d8e-bed3-464f-a4ae-ff01a8d5ec46",
   "metadata": {},
   "outputs": [
    {
     "data": {
      "text/plain": [
       "500"
      ]
     },
     "execution_count": 23,
     "metadata": {},
     "output_type": "execute_result"
    }
   ],
   "source": [
    "len(company)"
   ]
  },
  {
   "cell_type": "code",
   "execution_count": 24,
   "id": "34f275fa-f4b6-4c14-bf52-4c8af92e9b8a",
   "metadata": {},
   "outputs": [
    {
     "data": {
      "text/plain": [
       "373"
      ]
     },
     "execution_count": 24,
     "metadata": {},
     "output_type": "execute_result"
    }
   ],
   "source": [
    "len(sectors)"
   ]
  },
  {
   "cell_type": "code",
   "execution_count": 27,
   "id": "931f0a94-1171-4b5d-8f68-4354fff1d1ce",
   "metadata": {},
   "outputs": [
    {
     "data": {
      "text/plain": [
       "Profit Change\n",
       "-         66\n",
       "5.20%      4\n",
       "5.80%      3\n",
       "4.40%      3\n",
       "5.00%      3\n",
       "          ..\n",
       "8.30%      1\n",
       "8.00%      1\n",
       "76.40%     1\n",
       "73.30%     1\n",
       "7.80%      1\n",
       "Length: 373, dtype: int64"
      ]
     },
     "execution_count": 27,
     "metadata": {},
     "output_type": "execute_result"
    }
   ],
   "source": [
    "sectors.size().sort_values(ascending = False)"
   ]
  },
  {
   "cell_type": "code",
   "execution_count": 28,
   "id": "4d9726dc-396f-48dd-8fdb-4bf23eeccff7",
   "metadata": {},
   "outputs": [
    {
     "data": {
      "text/html": [
       "<div>\n",
       "<style scoped>\n",
       "    .dataframe tbody tr th:only-of-type {\n",
       "        vertical-align: middle;\n",
       "    }\n",
       "\n",
       "    .dataframe tbody tr th {\n",
       "        vertical-align: top;\n",
       "    }\n",
       "\n",
       "    .dataframe thead th {\n",
       "        text-align: right;\n",
       "    }\n",
       "</style>\n",
       "<table border=\"1\" class=\"dataframe\">\n",
       "  <thead>\n",
       "    <tr style=\"text-align: right;\">\n",
       "      <th></th>\n",
       "      <th>Rank</th>\n",
       "      <th>Company Name</th>\n",
       "      <th>Number of Employees</th>\n",
       "      <th>Previous Rank</th>\n",
       "      <th>Revenues</th>\n",
       "      <th>Revenue Change</th>\n",
       "      <th>Profits</th>\n",
       "      <th>Assets</th>\n",
       "      <th>Market Value</th>\n",
       "    </tr>\n",
       "    <tr>\n",
       "      <th>Profit Change</th>\n",
       "      <th></th>\n",
       "      <th></th>\n",
       "      <th></th>\n",
       "      <th></th>\n",
       "      <th></th>\n",
       "      <th></th>\n",
       "      <th></th>\n",
       "      <th></th>\n",
       "      <th></th>\n",
       "    </tr>\n",
       "  </thead>\n",
       "  <tbody>\n",
       "    <tr>\n",
       "      <th>-</th>\n",
       "      <td>11</td>\n",
       "      <td>AmerisourceBergen</td>\n",
       "      <td>18,500</td>\n",
       "      <td>12.0</td>\n",
       "      <td>$1,46,850</td>\n",
       "      <td>8.00%</td>\n",
       "      <td>$1,427.90</td>\n",
       "      <td>$33,656</td>\n",
       "      <td>$19,229</td>\n",
       "    </tr>\n",
       "    <tr>\n",
       "      <th>-0.20%</th>\n",
       "      <td>461</td>\n",
       "      <td>Wyndham Worldwide</td>\n",
       "      <td>37,800</td>\n",
       "      <td>466.0</td>\n",
       "      <td>$5,599</td>\n",
       "      <td>1.10%</td>\n",
       "      <td>$611.00</td>\n",
       "      <td>$9,819</td>\n",
       "      <td>$8,829</td>\n",
       "    </tr>\n",
       "    <tr>\n",
       "      <th>-0.30%</th>\n",
       "      <td>90</td>\n",
       "      <td>General Dynamics</td>\n",
       "      <td>98,800</td>\n",
       "      <td>88.0</td>\n",
       "      <td>$31,353</td>\n",
       "      <td>-0.40%</td>\n",
       "      <td>$2,955.00</td>\n",
       "      <td>$32,872</td>\n",
       "      <td>$56,791</td>\n",
       "    </tr>\n",
       "    <tr>\n",
       "      <th>-0.40%</th>\n",
       "      <td>159</td>\n",
       "      <td>Cummins</td>\n",
       "      <td>55,400</td>\n",
       "      <td>148.0</td>\n",
       "      <td>$17,509</td>\n",
       "      <td>-8.40%</td>\n",
       "      <td>$1,394.00</td>\n",
       "      <td>$15,011</td>\n",
       "      <td>$25,397</td>\n",
       "    </tr>\n",
       "    <tr>\n",
       "      <th>-1.10%</th>\n",
       "      <td>16</td>\n",
       "      <td>Costco</td>\n",
       "      <td>1,72,000</td>\n",
       "      <td>15.0</td>\n",
       "      <td>$1,18,719</td>\n",
       "      <td>2.20%</td>\n",
       "      <td>$2,350.00</td>\n",
       "      <td>$33,163</td>\n",
       "      <td>$73,606</td>\n",
       "    </tr>\n",
       "    <tr>\n",
       "      <th>...</th>\n",
       "      <td>...</td>\n",
       "      <td>...</td>\n",
       "      <td>...</td>\n",
       "      <td>...</td>\n",
       "      <td>...</td>\n",
       "      <td>...</td>\n",
       "      <td>...</td>\n",
       "      <td>...</td>\n",
       "      <td>...</td>\n",
       "    </tr>\n",
       "    <tr>\n",
       "      <th>9.60%</th>\n",
       "      <td>304</td>\n",
       "      <td>LKQ</td>\n",
       "      <td>42,500</td>\n",
       "      <td>369.0</td>\n",
       "      <td>$9,082</td>\n",
       "      <td>26.30%</td>\n",
       "      <td>$464.00</td>\n",
       "      <td>$8,303</td>\n",
       "      <td>$9,021</td>\n",
       "    </tr>\n",
       "    <tr>\n",
       "      <th>94.10%</th>\n",
       "      <td>186</td>\n",
       "      <td>DISH Network</td>\n",
       "      <td>16,000</td>\n",
       "      <td>187.0</td>\n",
       "      <td>$15,095</td>\n",
       "      <td>0.20%</td>\n",
       "      <td>$1,449.90</td>\n",
       "      <td>$28,092</td>\n",
       "      <td>$29,547</td>\n",
       "    </tr>\n",
       "    <tr>\n",
       "      <th>95.70%</th>\n",
       "      <td>75</td>\n",
       "      <td>Liberty Mutual Insurance Group</td>\n",
       "      <td>50,000</td>\n",
       "      <td>73.0</td>\n",
       "      <td>$38,308</td>\n",
       "      <td>-2.90%</td>\n",
       "      <td>$1,006.00</td>\n",
       "      <td>$1,25,592</td>\n",
       "      <td>-</td>\n",
       "    </tr>\n",
       "    <tr>\n",
       "      <th>962.50%</th>\n",
       "      <td>491</td>\n",
       "      <td>Liberty Media</td>\n",
       "      <td>3,626</td>\n",
       "      <td>525.0</td>\n",
       "      <td>$5,276</td>\n",
       "      <td>10.00%</td>\n",
       "      <td>$680.00</td>\n",
       "      <td>$31,377</td>\n",
       "      <td>$13,055</td>\n",
       "    </tr>\n",
       "    <tr>\n",
       "      <th>99.70%</th>\n",
       "      <td>346</td>\n",
       "      <td>J.M. Smucker</td>\n",
       "      <td>6,910</td>\n",
       "      <td>452.0</td>\n",
       "      <td>$7,811</td>\n",
       "      <td>37.20%</td>\n",
       "      <td>$688.70</td>\n",
       "      <td>$15,984</td>\n",
       "      <td>$15,263</td>\n",
       "    </tr>\n",
       "  </tbody>\n",
       "</table>\n",
       "<p>373 rows × 9 columns</p>\n",
       "</div>"
      ],
      "text/plain": [
       "               Rank                    Company Name Number of Employees  \\\n",
       "Profit Change                                                             \n",
       "-                11               AmerisourceBergen              18,500   \n",
       "-0.20%          461               Wyndham Worldwide              37,800   \n",
       "-0.30%           90                General Dynamics              98,800   \n",
       "-0.40%          159                         Cummins              55,400   \n",
       "-1.10%           16                          Costco            1,72,000   \n",
       "...             ...                             ...                 ...   \n",
       "9.60%           304                             LKQ              42,500   \n",
       "94.10%          186                    DISH Network              16,000   \n",
       "95.70%           75  Liberty Mutual Insurance Group              50,000   \n",
       "962.50%         491                   Liberty Media               3,626   \n",
       "99.70%          346                    J.M. Smucker               6,910   \n",
       "\n",
       "               Previous Rank   Revenues Revenue Change     Profits     Assets  \\\n",
       "Profit Change                                                                   \n",
       "-                       12.0  $1,46,850          8.00%  $1,427.90    $33,656    \n",
       "-0.20%                 466.0    $5,599           1.10%    $611.00     $9,819    \n",
       "-0.30%                  88.0   $31,353          -0.40%  $2,955.00    $32,872    \n",
       "-0.40%                 148.0   $17,509          -8.40%  $1,394.00    $15,011    \n",
       "-1.10%                  15.0  $1,18,719          2.20%  $2,350.00    $33,163    \n",
       "...                      ...        ...            ...         ...        ...   \n",
       "9.60%                  369.0    $9,082          26.30%    $464.00     $8,303    \n",
       "94.10%                 187.0   $15,095           0.20%  $1,449.90    $28,092    \n",
       "95.70%                  73.0   $38,308          -2.90%  $1,006.00   $1,25,592   \n",
       "962.50%                525.0    $5,276          10.00%    $680.00    $31,377    \n",
       "99.70%                 452.0    $7,811          37.20%    $688.70    $15,984    \n",
       "\n",
       "              Market Value  \n",
       "Profit Change               \n",
       "-                 $19,229   \n",
       "-0.20%             $8,829   \n",
       "-0.30%            $56,791   \n",
       "-0.40%            $25,397   \n",
       "-1.10%            $73,606   \n",
       "...                    ...  \n",
       "9.60%              $9,021   \n",
       "94.10%            $29,547   \n",
       "95.70%                   -  \n",
       "962.50%           $13,055   \n",
       "99.70%            $15,263   \n",
       "\n",
       "[373 rows x 9 columns]"
      ]
     },
     "execution_count": 28,
     "metadata": {},
     "output_type": "execute_result"
    }
   ],
   "source": [
    "sectors.first()"
   ]
  },
  {
   "cell_type": "code",
   "execution_count": 29,
   "id": "b23369de-4c4b-4ae6-b29f-4622af4829ef",
   "metadata": {},
   "outputs": [
    {
     "data": {
      "text/plain": [
       "{'-': [10, 12, 40, 48, 58, 95, 114, 126, 129, 133, 160, 167, 172, 174, 190, 195, 196, 202, 220, 221, 227, 228, 230, 241, 243, 262, 272, 277, 278, 284, 296, 299, 312, 325, 326, 328, 329, 331, 336, 342, 343, 346, 350, 355, 361, 366, 374, 375, 378, 382, 383, 398, 408, 417, 420, 425, 440, 443, 453, 466, 481, 484, 486, 487, 497, 498], '-0.20%': [460], '-0.30%': [89, 121], '-0.40%': [158], '-1.10%': [15, 16], '-1.20%': [409], '-1.80%': [188], '-10.00%': [31], '-10.10%': [300], '-10.40%': [80], '-10.50%': [151], '-10.60%': [76], '-10.80%': [69, 192], '-103.20%': [73], '-107.30%': [469], '-109.50%': [225], '-11.00%': [403], '-11.20%': [63], '-11.30%': [142], '-11.40%': [107], '-11.80%': [68, 441], '-110.80%': [18], '-12.10%': [232], '-12.30%': [320], '-12.40%': [98], '-12.80%': [229], '-12.90%': [256], '-13.00%': [339], '-13.40%': [397], '-13.50%': [29, 83, 377], '-13.60%': [478], '-13.90%': [393, 473], '-135.20%': [273], '-138.70%': [54], '-14.40%': [2], '-15.10%': [248], '-15.20%': [404], '-15.90%': [238], '-16.20%': [465], '-16.30%': [78, 267], '-16.60%': [433], '-17.20%': [285], '-17.40%': [149], '-178.20%': [189], '-18.30%': [298], '-18.50%': [338, 427], '-18.60%': [37], '-18.70%': [119], '-2.30%': [319], '-2.40%': [75], '-2.60%': [179], '-2.70%': [7, 128], '-2.80%': [8, 302], '-2.90%': [291], '-20.30%': [140, 250], '-20.40%': [208], '-200.60%': [161], '-204.80%': [265], '-21.20%': [281], '-21.30%': [330], '-21.40%': [104], '-21.70%': [101], '-21.80%': [459], '-22.60%': [47], '-220.70%': [444], '-23.60%': [120, 315], '-23.90%': [143], '-25.00%': [499], '-25.20%': [223], '-25.40%': [91], '-26.50%': [177], '-26.60%': [13, 106], '-27.50%': [102, 390], '-279.90%': [295], '-28.70%': [159], '-29.20%': [45], '-298.90%': [426], '-3.00%': [274, 362], '-3.10%': [17], '-3.20%': [451], '-3.40%': [70], '-3.50%': [28], '-3.60%': [132], '-3.90%': [380], '-30.50%': [258], '-30.80%': [44], '-31.80%': [148], '-33.00%': [373], '-33.60%': [49], '-35.70%': [217], '-36.20%': [354], '-37.20%': [416], '-37.60%': [182], '-37.70%': [9], '-385.00%': [327], '-39.70%': [138], '-39.90%': [369], '-4.00%': [437, 492], '-4.10%': [334], '-4.20%': [24], ...}"
      ]
     },
     "execution_count": 29,
     "metadata": {},
     "output_type": "execute_result"
    }
   ],
   "source": [
    "sectors.groups"
   ]
  },
  {
   "cell_type": "code",
   "execution_count": null,
   "id": "1c35b60a-78d7-4fc5-afa8-a3266a7496e9",
   "metadata": {},
   "outputs": [],
   "source": []
  }
 ],
 "metadata": {
  "kernelspec": {
   "display_name": "venv",
   "language": "python",
   "name": "venv"
  },
  "language_info": {
   "codemirror_mode": {
    "name": "ipython",
    "version": 3
   },
   "file_extension": ".py",
   "mimetype": "text/x-python",
   "name": "python",
   "nbconvert_exporter": "python",
   "pygments_lexer": "ipython3",
   "version": "3.13.1"
  }
 },
 "nbformat": 4,
 "nbformat_minor": 5
}
